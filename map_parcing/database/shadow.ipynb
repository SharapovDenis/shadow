{
 "cells": [
  {
   "cell_type": "code",
   "execution_count": 1,
   "metadata": {},
   "outputs": [],
   "source": [
    "import json\n",
    "import requests\n",
    "import sqlite3"
   ]
  },
  {
   "cell_type": "code",
   "execution_count": 2,
   "metadata": {},
   "outputs": [],
   "source": [
    "coordinates = \"55.7263,37.6503,55.7316,37.6864\"\n",
    "text_query = f\"\"\" [out: json];\n",
    "    nwr({coordinates});\n",
    "    out geom; \"\"\""
   ]
  },
  {
   "cell_type": "code",
   "execution_count": 3,
   "metadata": {},
   "outputs": [],
   "source": [
    "overpass_url = \"https://overpass.openstreetmap.ru/api/interpreter\"\n",
    "response = requests.get(overpass_url, params={'data': text_query})\n",
    "json_data = response.json()\n",
    "del json_data[\"version\"]\n",
    "del json_data[\"generator\"]\n",
    "del json_data[\"osm3s\"]\n",
    "with open(\"output_data.json\", \"w\") as outfile:\n",
    "    json.dump(json_data, outfile, indent=4)"
   ]
  },
  {
   "cell_type": "code",
   "execution_count": 4,
   "metadata": {},
   "outputs": [],
   "source": [
    "nodes = []\n",
    "node_tags = []\n",
    "ways = []\n",
    "way_tags = []\n",
    "way_nodes = []\n",
    "relations = []\n",
    "rel_tags = []\n",
    "members = []\n",
    "for i in range(len(json_data[\"elements\"])):\n",
    "    if(json_data[\"elements\"][i][\"type\"] == \"node\"):\n",
    "        node_id = json_data[\"elements\"][i][\"id\"]\n",
    "        lat     = json_data[\"elements\"][i][\"lat\"]\n",
    "        lon     = json_data[\"elements\"][i][\"lon\"]\n",
    "        nodes.append((node_id, lat, lon))\n",
    "        if('tags' in json_data['elements'][i].keys()):\n",
    "            for k in json_data['elements'][i]['tags'].keys():\n",
    "                tag_key = k\n",
    "                tag_val = json_data['elements'][i]['tags'][k]\n",
    "                node_tags.append((node_id, tag_key, tag_val))\n",
    "    if(json_data[\"elements\"][i][\"type\"] == \"way\"):\n",
    "        way_id = json_data[\"elements\"][i][\"id\"]\n",
    "        ways.append((way_id,))\n",
    "        if('tags' in json_data['elements'][i].keys()):\n",
    "            for k in json_data['elements'][i]['tags'].keys():\n",
    "                tag_key = k\n",
    "                tag_val = json_data['elements'][i]['tags'][k]\n",
    "                way_tags.append((way_id, tag_key, tag_val))\n",
    "        if('nodes' in json_data['elements'][i].keys()):\n",
    "            for j in range(len(json_data['elements'][i]['nodes'])):\n",
    "                node_id = json_data['elements'][i]['nodes'][j]\n",
    "                way_nodes.append((way_id, node_id, j))\n",
    "    if(json_data[\"elements\"][i][\"type\"] == \"relation\"):\n",
    "        rel_id = json_data[\"elements\"][i][\"id\"]\n",
    "        relations.append((rel_id,))\n",
    "        if('tags' in json_data['elements'][i].keys()):\n",
    "            for k in json_data['elements'][i]['tags'].keys():\n",
    "                tag_key = k\n",
    "                tag_val = json_data['elements'][i]['tags'][k]\n",
    "                rel_tags.append((rel_id, tag_key, tag_val))\n",
    "        if('members' in json_data['elements'][i].keys()):\n",
    "            for j in range(len(json_data['elements'][i]['members'])):\n",
    "                member_type = json_data['elements'][i]['members'][j]['type']\n",
    "                member_id = json_data['elements'][i]['members'][j]['ref']\n",
    "                member_role = json_data['elements'][i]['members'][j]['role']\n",
    "                members.append((rel_id, member_type, member_id, member_role, j))\n",
    "        \n"
   ]
  },
  {
   "cell_type": "code",
   "execution_count": 5,
   "metadata": {},
   "outputs": [],
   "source": [
    "with open('tests/nodes_test.txt', 'w') as file:\n",
    "    for x in nodes:\n",
    "        print(x, file=file)\n",
    "file.close()"
   ]
  },
  {
   "cell_type": "code",
   "execution_count": 6,
   "metadata": {},
   "outputs": [],
   "source": [
    "with open('tests/node_tags_test.txt', 'w') as file:\n",
    "    for x in node_tags:\n",
    "        print(x, file=file)\n",
    "file.close()"
   ]
  },
  {
   "cell_type": "code",
   "execution_count": 7,
   "metadata": {},
   "outputs": [],
   "source": [
    "with open('tests/ways_test.txt', 'w') as file:\n",
    "    for x in ways:\n",
    "        print(x, file=file)\n",
    "file.close()"
   ]
  },
  {
   "cell_type": "code",
   "execution_count": 8,
   "metadata": {},
   "outputs": [],
   "source": [
    "with open('tests/way_tags_test.txt', 'w') as file:\n",
    "    for x in way_tags:\n",
    "        print(x, file=file)\n",
    "file.close()"
   ]
  },
  {
   "cell_type": "code",
   "execution_count": 9,
   "metadata": {},
   "outputs": [],
   "source": [
    "with open('tests/way_nodes_test.txt', 'w') as file:\n",
    "    for x in way_nodes:\n",
    "        print(x, file=file)\n",
    "file.close()"
   ]
  },
  {
   "cell_type": "code",
   "execution_count": 10,
   "metadata": {},
   "outputs": [],
   "source": [
    "with open('tests/relations_test.txt', 'w') as file:\n",
    "    for x in relations:\n",
    "        print(x, file=file)\n",
    "file.close()"
   ]
  },
  {
   "cell_type": "code",
   "execution_count": 11,
   "metadata": {},
   "outputs": [],
   "source": [
    "with open('tests/rel_tags_test.txt', 'w') as file:\n",
    "    for x in rel_tags:\n",
    "        print(x, file=file)\n",
    "file.close()"
   ]
  },
  {
   "cell_type": "code",
   "execution_count": 12,
   "metadata": {},
   "outputs": [],
   "source": [
    "with open('tests/members_test.txt', 'w') as file:\n",
    "    for x in members:\n",
    "        print(x, file=file)\n",
    "file.close()"
   ]
  },
  {
   "cell_type": "code",
   "execution_count": 13,
   "metadata": {},
   "outputs": [
    {
     "name": "stdout",
     "output_type": "stream",
     "text": [
      "nodes 5120\n",
      "node_tags 1949\n",
      "ways 1086\n",
      "way_tags 4064\n",
      "way_nodes 8810\n",
      "relations 168\n",
      "rel_tags 864\n",
      "members 5928\n"
     ]
    }
   ],
   "source": [
    "print('nodes', len(nodes))\n",
    "print('node_tags', len(node_tags))\n",
    "print('ways', len(ways))\n",
    "print('way_tags', len(way_tags))\n",
    "print('way_nodes', len(way_nodes))\n",
    "print('relations', len(relations))\n",
    "print('rel_tags', len(rel_tags))\n",
    "print('members', len(members))"
   ]
  },
  {
   "cell_type": "code",
   "execution_count": 16,
   "metadata": {},
   "outputs": [],
   "source": [
    "con = sqlite3.connect('shadow.db')\n",
    "cur = con.cursor()\n",
    "\n",
    "cur.executemany(\"INSERT INTO nodes VALUES (?, ?, ?)\", nodes)\n",
    "cur.executemany(\"INSERT INTO node_tags VALUES (?, ?, ?)\", node_tags)\n",
    "cur.executemany(\"INSERT INTO ways VALUES (?)\", ways)\n",
    "cur.executemany(\"INSERT INTO way_tags VALUES (?, ?, ?)\", way_tags)\n",
    "cur.executemany(\"INSERT INTO way_nodes VALUES (?, ?, ?)\", way_nodes)\n",
    "cur.executemany(\"INSERT INTO relations VALUES (?)\", relations)\n",
    "cur.executemany(\"INSERT INTO rel_tags VALUES (?, ?, ?)\", rel_tags)\n",
    "cur.executemany(\"INSERT INTO rel_members VALUES (?, ?, ?, ?, ?)\", members)\n",
    "\n",
    "\n",
    "con.commit()"
   ]
  },
  {
   "cell_type": "code",
   "execution_count": 17,
   "metadata": {},
   "outputs": [],
   "source": [
    "cur.close()\n",
    "con.close()"
   ]
  }
 ],
 "metadata": {
  "interpreter": {
   "hash": "916dbcbb3f70747c44a77c7bcd40155683ae19c65e1c03b4aa3499c5328201f1"
  },
  "kernelspec": {
   "display_name": "Python 3.9.7 64-bit",
   "language": "python",
   "name": "python3"
  },
  "language_info": {
   "codemirror_mode": {
    "name": "ipython",
    "version": 3
   },
   "file_extension": ".py",
   "mimetype": "text/x-python",
   "name": "python",
   "nbconvert_exporter": "python",
   "pygments_lexer": "ipython3",
   "version": "3.9.7"
  },
  "orig_nbformat": 4
 },
 "nbformat": 4,
 "nbformat_minor": 2
}
