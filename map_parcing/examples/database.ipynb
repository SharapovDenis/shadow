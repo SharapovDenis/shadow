{
 "cells": [
  {
   "cell_type": "code",
   "execution_count": 1,
   "metadata": {},
   "outputs": [],
   "source": [
    "import mysql.connector"
   ]
  },
  {
   "cell_type": "code",
   "execution_count": 4,
   "metadata": {},
   "outputs": [],
   "source": [
    "db = mysql.connector.connect(\n",
    "    host=\"localhost\",\n",
    "    user=\"shadow_admin\",\n",
    "    password=\"shadow\",\n",
    "    database='shadow'\n",
    ")\n",
    "\n",
    "mycursor = db.cursor(dictionary=True)\n",
    "\n",
    "sql = \"INSERT INTO nodes (id, lat, lon) VALUES (%s, %s, %s)\"\n",
    "val = (54626040, 55.7812334, 37.7434943)\n",
    "mycursor.execute(sql, val)\n",
    "db.commit()\n",
    "\n",
    "db.close()"
   ]
  }
 ],
 "metadata": {
  "interpreter": {
   "hash": "916dbcbb3f70747c44a77c7bcd40155683ae19c65e1c03b4aa3499c5328201f1"
  },
  "kernelspec": {
   "display_name": "Python 3.9.7 64-bit",
   "language": "python",
   "name": "python3"
  },
  "language_info": {
   "codemirror_mode": {
    "name": "ipython",
    "version": 3
   },
   "file_extension": ".py",
   "mimetype": "text/x-python",
   "name": "python",
   "nbconvert_exporter": "python",
   "pygments_lexer": "ipython3",
   "version": "3.9.7"
  },
  "orig_nbformat": 4
 },
 "nbformat": 4,
 "nbformat_minor": 2
}
