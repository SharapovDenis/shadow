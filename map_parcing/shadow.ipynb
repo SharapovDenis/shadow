{
 "cells": [
  {
   "cell_type": "code",
   "execution_count": 8,
   "metadata": {},
   "outputs": [],
   "source": [
    "import json\n",
    "import requests\n",
    "import mysql.connector"
   ]
  },
  {
   "cell_type": "code",
   "execution_count": 9,
   "metadata": {},
   "outputs": [],
   "source": [
    "coordinates = \"55.7263,37.6503,55.7816,37.7864\"\n",
    "text_query = f\"\"\" [out: json];\n",
    "    node({coordinates});\n",
    "    out geom; \"\"\""
   ]
  },
  {
   "cell_type": "code",
   "execution_count": 10,
   "metadata": {},
   "outputs": [],
   "source": [
    "overpass_url = \"https://overpass.openstreetmap.ru/api/interpreter\"\n",
    "response = requests.get(overpass_url, params={'data': text_query})\n",
    "json_data = response.json()\n",
    "del json_data[\"version\"]\n",
    "del json_data[\"generator\"]\n",
    "del json_data[\"osm3s\"]\n",
    "with open(\"output_data.json\", \"w\") as outfile:\n",
    "    json.dump(json_data, outfile)"
   ]
  },
  {
   "cell_type": "code",
   "execution_count": 11,
   "metadata": {},
   "outputs": [],
   "source": [
    "db = mysql.connector.connect(\n",
    "    host=\"localhost\",\n",
    "    user=\"shadow_admin\",\n",
    "    password=\"shadow\",\n",
    "    database=\"shadow\"\n",
    ")\n",
    "\n",
    "mycursor = db.cursor(dictionary=True)"
   ]
  },
  {
   "cell_type": "code",
   "execution_count": 12,
   "metadata": {},
   "outputs": [],
   "source": [
    "insert_list = []\n",
    "for i in range(len(json_data[\"elements\"])):\n",
    "    if(json_data[\"elements\"][i][\"type\"] == \"node\"):\n",
    "        node_id = json_data[\"elements\"][i][\"id\"]\n",
    "        lat     = json_data[\"elements\"][i][\"lat\"]\n",
    "        lon     = json_data[\"elements\"][i][\"lon\"]\n",
    "        insert_list.append((node_id, lat, lon))"
   ]
  },
  {
   "cell_type": "markdown",
   "metadata": {},
   "source": [
    "# commit makes changes in db (through transactions)"
   ]
  },
  {
   "cell_type": "code",
   "execution_count": 13,
   "metadata": {},
   "outputs": [],
   "source": [
    "sql = \"INSERT INTO nodes (id, lat, lon) VALUES (%s, %s, %s)\"\n",
    "val = insert_list\n",
    "\n",
    "mycursor.executemany(sql, val)\n",
    "\n",
    "db.commit()"
   ]
  },
  {
   "cell_type": "markdown",
   "metadata": {},
   "source": [
    "# must close db otherwise it will stuck"
   ]
  },
  {
   "cell_type": "code",
   "execution_count": null,
   "metadata": {},
   "outputs": [],
   "source": [
    "db.close()"
   ]
  }
 ],
 "metadata": {
  "interpreter": {
   "hash": "916dbcbb3f70747c44a77c7bcd40155683ae19c65e1c03b4aa3499c5328201f1"
  },
  "kernelspec": {
   "display_name": "Python 3.9.7 64-bit",
   "language": "python",
   "name": "python3"
  },
  "language_info": {
   "codemirror_mode": {
    "name": "ipython",
    "version": 3
   },
   "file_extension": ".py",
   "mimetype": "text/x-python",
   "name": "python",
   "nbconvert_exporter": "python",
   "pygments_lexer": "ipython3",
   "version": "3.9.7"
  },
  "orig_nbformat": 4
 },
 "nbformat": 4,
 "nbformat_minor": 2
}
