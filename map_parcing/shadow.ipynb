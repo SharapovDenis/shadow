{
 "cells": [
  {
   "cell_type": "code",
   "execution_count": 17,
   "metadata": {},
   "outputs": [],
   "source": [
    "import overpy\n",
    "import pandas\n",
    "\n",
    "coordinates = \"55.7263,37.6503,55.7816,37.7864\"\n",
    "\n",
    "api = overpy.Overpass()\n",
    "result = api.query(f\"\"\"\n",
    "    [out: json];\n",
    "    wr[building]({coordinates})(if:number(t[\"building:levels\"]) >= 1);\n",
    "    out geom;\n",
    "                   \n",
    "\"\"\")\n",
    "\n",
    "list_of_ways = [0]*5\n",
    "table_of_ways = []\n",
    "\n",
    "for way in result.ways:\n",
    "    list_of_ways = [0]*5\n",
    "    list_of_ways[0] = way.id\n",
    "    list_of_ways[1] = way.tags.get(\"addr:city\")\n",
    "    list_of_ways[2] = way.tags.get(\"addr:street\")\n",
    "    list_of_ways[3] = way.tags.get(\"addr:housenumber\")\n",
    "    list_of_ways[4] = way.tags.get(\"building:levels\")\n",
    "    table_of_ways.append(list_of_ways)  \n",
    "    \n",
    "df = pandas.DataFrame(table_of_ways, columns=[\"id\", \"city\", \"street\", \"housenumber\", \"levels\"])\n",
    "df.to_csv(\"output_data.csv\")\n",
    "df.to_excel(\"output_data.xlsx\")\n"
   ]
  }
 ],
 "metadata": {
  "interpreter": {
   "hash": "916dbcbb3f70747c44a77c7bcd40155683ae19c65e1c03b4aa3499c5328201f1"
  },
  "kernelspec": {
   "display_name": "Python 3.9.7 64-bit",
   "language": "python",
   "name": "python3"
  },
  "language_info": {
   "codemirror_mode": {
    "name": "ipython",
    "version": 3
   },
   "file_extension": ".py",
   "mimetype": "text/x-python",
   "name": "python",
   "nbconvert_exporter": "python",
   "pygments_lexer": "ipython3",
   "version": "3.9.7"
  },
  "orig_nbformat": 4
 },
 "nbformat": 4,
 "nbformat_minor": 2
}
