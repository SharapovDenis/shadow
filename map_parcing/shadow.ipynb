{
 "cells": [
  {
   "cell_type": "code",
   "execution_count": 25,
   "metadata": {},
   "outputs": [],
   "source": [
    "import json\n",
    "import requests\n",
    "import sqlite3"
   ]
  },
  {
   "cell_type": "code",
   "execution_count": 26,
   "metadata": {},
   "outputs": [],
   "source": [
    "coordinates = \"55.7263,37.6503,55.7816,37.7864\"\n",
    "text_query = f\"\"\" [out: json];\n",
    "    nwr({coordinates});\n",
    "    out geom; \"\"\""
   ]
  },
  {
   "cell_type": "code",
   "execution_count": 27,
   "metadata": {},
   "outputs": [],
   "source": [
    "overpass_url = \"https://overpass.openstreetmap.ru/api/interpreter\"\n",
    "response = requests.get(overpass_url, params={'data': text_query})\n",
    "json_data = response.json()\n",
    "del json_data[\"version\"]\n",
    "del json_data[\"generator\"]\n",
    "del json_data[\"osm3s\"]\n",
    "with open(\"output_data.json\", \"w\") as outfile:\n",
    "    json.dump(json_data, outfile)"
   ]
  },
  {
   "cell_type": "code",
   "execution_count": 28,
   "metadata": {},
   "outputs": [],
   "source": [
    "node_list = []\n",
    "node_tags = []\n",
    "tags_id = 1\n",
    "for i in range(len(json_data[\"elements\"])):\n",
    "    if(json_data[\"elements\"][i][\"type\"] == \"node\"):\n",
    "        node_id = json_data[\"elements\"][i][\"id\"]\n",
    "        lat     = json_data[\"elements\"][i][\"lat\"]\n",
    "        lon     = json_data[\"elements\"][i][\"lon\"]\n",
    "        node_list.append((node_id, lat, lon))\n",
    "        if('tags' in json_data['elements'][i].keys()):\n",
    "            for k in json_data['elements'][i]['tags'].keys():\n",
    "                tag_key = k\n",
    "                tag_val = json_data['elements'][i]['tags'][k]\n",
    "                node_tags.append((tags_id, node_id, tag_key, tag_val))\n",
    "                tags_id += 1\n"
   ]
  },
  {
   "cell_type": "code",
   "execution_count": 57,
   "metadata": {},
   "outputs": [],
   "source": [
    "way_list = []\n",
    "way_tags = []\n",
    "tags_id = 1\n",
    "for i in range(len(json_data[\"elements\"])):\n",
    "    if(json_data[\"elements\"][i][\"type\"] == \"way\"):\n",
    "        way_id = json_data[\"elements\"][i][\"id\"]\n",
    "        way_list.append((way_id,))\n",
    "        if('tags' in json_data['elements'][i].keys()):\n",
    "            for k in json_data['elements'][i]['tags'].keys():\n",
    "                tag_key = k\n",
    "                tag_val = json_data['elements'][i]['tags'][k]\n",
    "                way_tags.append((tags_id, node_id, tag_key, tag_val))\n",
    "                tags_id += 1"
   ]
  },
  {
   "cell_type": "code",
   "execution_count": 58,
   "metadata": {},
   "outputs": [],
   "source": [
    "with open('tests/way_tags_test.txt', 'w') as file:\n",
    "    for x in way_tags:\n",
    "        print(x, file=file)\n",
    "file.close()\n",
    "\n",
    "with open('tests/way_test.txt', 'w') as file:\n",
    "    for x in way_list:\n",
    "        print(x, file=file)\n",
    "file.close()"
   ]
  },
  {
   "cell_type": "code",
   "execution_count": 64,
   "metadata": {},
   "outputs": [],
   "source": [
    "con = sqlite3.connect('shadow.db')\n",
    "cur = con.cursor()\n",
    "\n",
    "#cur.executemany(\"INSERT INTO nodes VALUES (?, ?, ?)\", node_list)\n",
    "#cur.executemany(\"INSERT INTO node_tags VALUES (?, ?, ?, ?)\", node_tags)\n",
    "cur.executemany(\"INSERT INTO ways VALUES (?)\", way_list)\n",
    "#cur.executemany(\"INSERT INTO way_tags VALUES (?, ?, ?, ?)\", way_tags)\n",
    "\n",
    "con.commit()"
   ]
  },
  {
   "cell_type": "code",
   "execution_count": 65,
   "metadata": {},
   "outputs": [],
   "source": [
    "cur.close()\n",
    "con.close()"
   ]
  }
 ],
 "metadata": {
  "interpreter": {
   "hash": "916dbcbb3f70747c44a77c7bcd40155683ae19c65e1c03b4aa3499c5328201f1"
  },
  "kernelspec": {
   "display_name": "Python 3.9.7 64-bit",
   "language": "python",
   "name": "python3"
  },
  "language_info": {
   "codemirror_mode": {
    "name": "ipython",
    "version": 3
   },
   "file_extension": ".py",
   "mimetype": "text/x-python",
   "name": "python",
   "nbconvert_exporter": "python",
   "pygments_lexer": "ipython3",
   "version": "3.9.7"
  },
  "orig_nbformat": 4
 },
 "nbformat": 4,
 "nbformat_minor": 2
}
